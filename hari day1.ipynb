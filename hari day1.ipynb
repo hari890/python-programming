{
 "cells": [
  {
   "cell_type": "code",
   "execution_count": 1,
   "metadata": {},
   "outputs": [
    {
     "data": {
      "text/plain": [
       "30"
      ]
     },
     "execution_count": 1,
     "metadata": {},
     "output_type": "execute_result"
    }
   ],
   "source": [
    "10+20\n"
   ]
  },
  {
   "cell_type": "code",
   "execution_count": 2,
   "metadata": {},
   "outputs": [
    {
     "data": {
      "text/plain": [
       "50"
      ]
     },
     "execution_count": 2,
     "metadata": {},
     "output_type": "execute_result"
    }
   ],
   "source": [
    "20+30"
   ]
  },
  {
   "cell_type": "markdown",
   "metadata": {},
   "source": [
    "# head one"
   ]
  },
  {
   "cell_type": "markdown",
   "metadata": {},
   "source": [
    "## head two"
   ]
  },
  {
   "cell_type": "code",
   "execution_count": 3,
   "metadata": {},
   "outputs": [
    {
     "name": "stdout",
     "output_type": "stream",
     "text": [
      "<class 'int'>\n",
      "523476\n"
     ]
    }
   ],
   "source": [
    "a=523476\n",
    "print(type(a))\n",
    "print(a)"
   ]
  },
  {
   "cell_type": "code",
   "execution_count": 4,
   "metadata": {},
   "outputs": [
    {
     "name": "stdout",
     "output_type": "stream",
     "text": [
      "<class 'int'>\n",
      "1010101\n"
     ]
    }
   ],
   "source": [
    "a=1010101\n",
    "print(type(a))\n",
    "print(a)"
   ]
  },
  {
   "cell_type": "code",
   "execution_count": 5,
   "metadata": {},
   "outputs": [
    {
     "name": "stdout",
     "output_type": "stream",
     "text": [
      "0o27\n"
     ]
    }
   ],
   "source": [
    "a=23\n",
    "print(oct(a))"
   ]
  },
  {
   "cell_type": "code",
   "execution_count": 6,
   "metadata": {},
   "outputs": [
    {
     "name": "stdout",
     "output_type": "stream",
     "text": [
      "0b100010\n"
     ]
    }
   ],
   "source": [
    "a=34\n",
    "print(bin(a))"
   ]
  },
  {
   "cell_type": "code",
   "execution_count": 15,
   "metadata": {},
   "outputs": [
    {
     "name": "stdout",
     "output_type": "stream",
     "text": [
      "0x14\n"
     ]
    }
   ],
   "source": [
    "a=20\n",
    "print(hex(a))"
   ]
  },
  {
   "cell_type": "code",
   "execution_count": null,
   "metadata": {},
   "outputs": [],
   "source": [
    "a=0x14f\n",
    "print(a)"
   ]
  },
  {
   "cell_type": "markdown",
   "metadata": {},
   "source": [
    "s1='hello world'\n",
    "s2=\"heello world2\"\n",
    "s3='''hello world3'''\n",
    "print(s1+' '+s2+' '+s3,)"
   ]
  },
  {
   "cell_type": "code",
   "execution_count": 17,
   "metadata": {},
   "outputs": [
    {
     "name": "stdout",
     "output_type": "stream",
     "text": [
      "hello world\n",
      "heello world2\n",
      "hello world3\n"
     ]
    }
   ],
   "source": [
    "s1='hello world' \n",
    "s2=\"heello world2\" \n",
    "s3='''hello world3''' \n",
    "print(s1+'\\n'+s2+'\\n'+s3)"
   ]
  },
  {
   "cell_type": "code",
   "execution_count": 20,
   "metadata": {},
   "outputs": [
    {
     "name": "stdout",
     "output_type": "stream",
     "text": [
      "['False', 'None', 'True', 'and', 'as', 'assert', 'async', 'await', 'break', 'class', 'continue', 'def', 'del', 'elif', 'else', 'except', 'finally', 'for', 'from', 'global', 'if', 'import', 'in', 'is', 'lambda', 'nonlocal', 'not', 'or', 'pass', 'raise', 'return', 'try', 'while', 'with', 'yield']\n"
     ]
    }
   ],
   "source": [
    "import keyword\n",
    "k=keyword.kwlist\n",
    "print(k)"
   ]
  },
  {
   "cell_type": "markdown",
   "metadata": {},
   "source": [
    "*hello \n",
    "**hello\n",
    "***hello"
   ]
  },
  {
   "cell_type": "markdown",
   "metadata": {},
   "source": [
    "*italic* \n",
    "**bold**\n",
    "***bold italic***"
   ]
  },
  {
   "cell_type": "markdown",
   "metadata": {},
   "source": [
    "*italic* text in italic<br>\n",
    "**bold** text in bold<br>\n",
    "***bold and italic*** "
   ]
  },
  {
   "cell_type": "markdown",
   "metadata": {},
   "source": [
    "# python\n",
    "- General purpose, higher level and interporeted language\n",
    "- **general purpose**\n",
    "    - It used to develop mobile applications and web appliations\n",
    "- **high level programming language**\n",
    "    - user understandable language\n",
    "- **interpreted**\n",
    "    - It gives us line by line execution\n",
    "- **feautures**\n",
    "    - easy to learn and simple to code\n",
    "    - syntax free language\n",
    "    - it is semi-object oriented language"
   ]
  },
  {
   "cell_type": "code",
   "execution_count": 23,
   "metadata": {
    "scrolled": true
   },
   "outputs": [
    {
     "name": "stdout",
     "output_type": "stream",
     "text": [
      "['aaa', 'aab', 'aac', 'aad', 'aba', 'abb', 'abc', 'abd', 'aca', 'acb', 'acc', 'acd', 'ada', 'adb', 'adc', 'add', 'baa', 'bab', 'bac', 'bad', 'bba', 'bbb', 'bbc', 'bbd', 'bca', 'bcb', 'bcc', 'bcd', 'bda', 'bdb', 'bdc', 'bdd', 'caa', 'cab', 'cac', 'cad', 'cba', 'cbb', 'cbc', 'cbd', 'cca', 'ccb', 'ccc', 'ccd', 'cda', 'cdb', 'cdc', 'cdd', 'daa', 'dab', 'dac', 'dad', 'dba', 'dbb', 'dbc', 'dbd', 'dca', 'dcb', 'dcc', 'dcd', 'dda', 'ddb', 'ddc', 'ddd']\n"
     ]
    }
   ],
   "source": [
    "s='abcd'\n",
    "l=[a+b+c for a in s for b in s for c in s]\n",
    "print(l)"
   ]
  },
  {
   "cell_type": "markdown",
   "metadata": {},
   "source": [
    "<img src=\"superman.jpeg\">screenshot<img>"
   ]
  },
  {
   "cell_type": "markdown",
   "metadata": {},
   "source": [
    "### <u>Errors in python</u>\n",
    "- An invalid statement\n",
    "- 2 types of errors\n",
    "    - **syntax error**\n",
    "        - error related to syntax\n",
    "    - **Value error**\n",
    "        - type error, file does not find errorand value error etc..\n",
    "    - **Indfentation error**\n",
    "        - error related to space"
   ]
  },
  {
   "cell_type": "code",
   "execution_count": 1,
   "metadata": {},
   "outputs": [
    {
     "name": "stdout",
     "output_type": "stream",
     "text": [
      "10 20 30\n"
     ]
    }
   ],
   "source": [
    "a=10\n",
    "b=20\n",
    "c=30\n",
    "print(a,b,c)"
   ]
  },
  {
   "cell_type": "code",
   "execution_count": 2,
   "metadata": {},
   "outputs": [
    {
     "name": "stdout",
     "output_type": "stream",
     "text": [
      "10 10 10\n"
     ]
    }
   ],
   "source": [
    "f=s=h=10\n",
    "print(f,s,h)"
   ]
  },
  {
   "cell_type": "code",
   "execution_count": 3,
   "metadata": {},
   "outputs": [
    {
     "name": "stdout",
     "output_type": "stream",
     "text": [
      "repeatrepeatrepeat\n"
     ]
    }
   ],
   "source": [
    "s='repeat'\n",
    "print(s*3)"
   ]
  },
  {
   "cell_type": "code",
   "execution_count": 4,
   "metadata": {},
   "outputs": [
    {
     "name": "stdout",
     "output_type": "stream",
     "text": [
      "Enter your name: Revanth\n",
      "Your name is : Revanth\n"
     ]
    }
   ],
   "source": [
    "name=input(\"Enter your name: \")\n",
    "print(\"Your name is : \"+name)"
   ]
  },
  {
   "cell_type": "code",
   "execution_count": 5,
   "metadata": {},
   "outputs": [
    {
     "name": "stdout",
     "output_type": "stream",
     "text": [
      "Enter your age: 19\n",
      "Your age is : 19\n"
     ]
    }
   ],
   "source": [
    "age=int(input(\"Enter your age: \"))\n",
    "print(\"Your age is : \"+str(age))"
   ]
  },
  {
   "cell_type": "code",
   "execution_count": 7,
   "metadata": {},
   "outputs": [
    {
     "name": "stdout",
     "output_type": "stream",
     "text": [
      "Enter your CGPA: 9\n",
      "Your age is : 9.0\n"
     ]
    }
   ],
   "source": [
    "gpa=float(input(\"Enter your CGPA: \"))\n",
    "print(\"Your age is : \"+str(gpa))"
   ]
  },
  {
   "cell_type": "markdown",
   "metadata": {},
   "source": [
    "### Type casting \n",
    "- Converting the data froom one type to other\n",
    "- **Implicit**\n",
    "    - Default conversion by tyhe converter\n",
    "- **Explicit**\n",
    "    - Conversion by th developer/programmer"
   ]
  },
  {
   "cell_type": "code",
   "execution_count": 15,
   "metadata": {},
   "outputs": [
    {
     "name": "stdout",
     "output_type": "stream",
     "text": [
      "     names  rollno\n",
      "0      ram      10\n",
      "1     Hari      20\n",
      "2  revanth      30\n"
     ]
    }
   ],
   "source": [
    "import pandas as pd\n",
    "#print(pd.__version__)\n",
    "mydata={\n",
    "    'names' : ['ram','Hari','revanth'],\n",
    "   'rollno' : [10,20,30]\n",
    "}\n",
    "table=pd.DataFrame(mydata)\n",
    "print(table)"
   ]
  },
  {
   "cell_type": "code",
   "execution_count": 10,
   "metadata": {},
   "outputs": [
    {
     "data": {
      "text/plain": [
       "43.7"
      ]
     },
     "execution_count": 10,
     "metadata": {},
     "output_type": "execute_result"
    }
   ],
   "source": [
    "#Implicit conversion\n",
    "20+23.7"
   ]
  },
  {
   "cell_type": "code",
   "execution_count": 11,
   "metadata": {},
   "outputs": [
    {
     "data": {
      "text/plain": [
       "50"
      ]
     },
     "execution_count": 11,
     "metadata": {},
     "output_type": "execute_result"
    }
   ],
   "source": [
    "#Explcit conversion\n",
    "num='20'\n",
    "30+int(num)"
   ]
  },
  {
   "cell_type": "code",
   "execution_count": 21,
   "metadata": {},
   "outputs": [
    {
     "name": "stdout",
     "output_type": "stream",
     "text": [
      "Enter number1: 8\n",
      "Enter number2: 2\n",
      "a+b = 10\n",
      "a-b = 6\n",
      "a*b = 16\n",
      "a/b = 4\n",
      "a^b = 64\n"
     ]
    }
   ],
   "source": [
    "#Arthimetic Operators\n",
    "a,b=int(input(\"Enter number1: \")),int(input(\"Enter number2: \"))\n",
    "print('a+b = '+str(a+b))\n",
    "print('a-b = '+str(a-b))\n",
    "print('a*b = '+str(a*b))\n",
    "print('a/b = '+str(a//b))\n",
    "print('a^b = '+str(a**b))"
   ]
  },
  {
   "cell_type": "code",
   "execution_count": 22,
   "metadata": {},
   "outputs": [
    {
     "data": {
      "text/plain": [
       "True"
      ]
     },
     "execution_count": 22,
     "metadata": {},
     "output_type": "execute_result"
    }
   ],
   "source": [
    "'r' in 'rvr'"
   ]
  },
  {
   "cell_type": "code",
   "execution_count": 23,
   "metadata": {},
   "outputs": [
    {
     "data": {
      "text/plain": [
       "False"
      ]
     },
     "execution_count": 23,
     "metadata": {},
     "output_type": "execute_result"
    }
   ],
   "source": [
    "'y' in 'rvr'"
   ]
  },
  {
   "cell_type": "code",
   "execution_count": 26,
   "metadata": {},
   "outputs": [
    {
     "data": {
      "text/plain": [
       "False"
      ]
     },
     "execution_count": 26,
     "metadata": {},
     "output_type": "execute_result"
    }
   ],
   "source": [
    "x,y=2,3\n",
    "x is y"
   ]
  },
  {
   "cell_type": "code",
   "execution_count": 33,
   "metadata": {},
   "outputs": [
    {
     "name": "stdout",
     "output_type": "stream",
     "text": [
      "10 and 45 / "
     ]
    }
   ],
   "source": [
    "x=10\n",
    "y=x\n",
    "x+=10;\n",
    "x-=5\n",
    "x*=3\n",
    "print(y,x,sep=' and ',end=' / ')"
   ]
  },
  {
   "cell_type": "code",
   "execution_count": 37,
   "metadata": {},
   "outputs": [
    {
     "name": "stdout",
     "output_type": "stream",
     "text": [
      "Enter any number: 4\n",
      "even\n"
     ]
    }
   ],
   "source": [
    "#Even or Odd\n",
    "num=int(input(\"Enter any number: \"))\n",
    "if(num % 2 == 0):\n",
    "    print(\"even\")\n",
    "else:\n",
    "    print('odd')"
   ]
  },
  {
   "cell_type": "code",
   "execution_count": 41,
   "metadata": {},
   "outputs": [
    {
     "name": "stdout",
     "output_type": "stream",
     "text": [
      "t\n",
      "consonant\n"
     ]
    }
   ],
   "source": [
    "#Oval or Consonant\n",
    "oval=\"aeiouAEIOU\"\n",
    "ch=input()\n",
    "if(ch in oval): print(\"oval\")\n",
    "else: print('consonant')"
   ]
  },
  {
   "cell_type": "code",
   "execution_count": 53,
   "metadata": {},
   "outputs": [
    {
     "name": "stdout",
     "output_type": "stream",
     "text": [
      "Enter an integer: -6\n",
      "Negative\n"
     ]
    }
   ],
   "source": [
    "#Negative or Positive\n",
    "num=int(input(\"Enter an integer: \"))\n",
    "if(abs(num) is not num): print(\"Negative\")\n",
    "else: print(\"Positive\")"
   ]
  },
  {
   "cell_type": "code",
   "execution_count": 52,
   "metadata": {},
   "outputs": [
    {
     "name": "stdout",
     "output_type": "stream",
     "text": [
      "a: 45\n",
      "b: 3\n",
      "c: 47\n",
      "47\n",
      "largest using built in function is: 47\n"
     ]
    }
   ],
   "source": [
    "\n",
    "a,b,c=int(input(\"a: \")),int(input(\"b: \")),int(input(\"c: \"))\n",
    "if a>b and a>c: print(a)\n",
    "elif b>c and b>a: print(b)\n",
    "else: print(c)\n",
    "print(\"largest using built in function is: \"+str(max(a,b,c)))"
   ]
  },
  {
   "cell_type": "code",
   "execution_count": 63,
   "metadata": {},
   "outputs": [
    {
     "name": "stdout",
     "output_type": "stream",
     "text": [
      "enter a year: \n",
      "54\n",
      "Not a leap year\n"
     ]
    }
   ],
   "source": [
    "year=int(input(\"enter a year: \\n\"))\n",
    "if (year%400 is 0 or year%4 is 0) and year%100 is not 0: print('leap year')\n",
    "else: print(\"Not a leap year\")"
   ]
  },
  {
   "cell_type": "code",
   "execution_count": 67,
   "metadata": {},
   "outputs": [
    {
     "name": "stdout",
     "output_type": "stream",
     "text": [
      "1 2 3 "
     ]
    }
   ],
   "source": [
    "for n in range(1,4): print(n,end=' ')"
   ]
  },
  {
   "cell_type": "code",
   "execution_count": 69,
   "metadata": {},
   "outputs": [
    {
     "name": "stdout",
     "output_type": "stream",
     "text": [
      "5\n",
      "5 * 1 = 5\n",
      "5 * 2 = 10\n",
      "5 * 3 = 15\n",
      "5 * 4 = 20\n",
      "5 * 5 = 25\n",
      "5 * 6 = 30\n",
      "5 * 7 = 35\n",
      "5 * 8 = 40\n",
      "5 * 9 = 45\n",
      "5 * 10 = 50\n"
     ]
    }
   ],
   "source": [
    "#nth table\n",
    "n=int(input())\n",
    "for i in range(1,11): print(str(n)+' * '+str(i)+' = '+str(i*n))"
   ]
  },
  {
   "cell_type": "code",
   "execution_count": null,
   "metadata": {},
   "outputs": [],
   "source": []
  }
 ],
 "metadata": {
  "kernelspec": {
   "display_name": "Python 3",
   "language": "python",
   "name": "python3"
  },
  "language_info": {
   "codemirror_mode": {
    "name": "ipython",
    "version": 3
   },
   "file_extension": ".py",
   "mimetype": "text/x-python",
   "name": "python",
   "nbconvert_exporter": "python",
   "pygments_lexer": "ipython3",
   "version": "3.7.0"
  }
 },
 "nbformat": 4,
 "nbformat_minor": 2
}
