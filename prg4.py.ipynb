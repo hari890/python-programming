{
 "cells": [
  {
   "cell_type": "code",
   "execution_count": 8,
   "metadata": {},
   "outputs": [
    {
     "name": "stdout",
     "output_type": "stream",
     "text": [
      "enter the number30.4\n",
      "-0.89 f\n",
      "86.72 c\n"
     ]
    }
   ],
   "source": [
    "n=float(input('enter the number:'))\n",
    "f=round(((n-32)*5)/9,2)\n",
    "c=round(((9*n)/5)+32,2)\n",
    "print(f,'f')\n",
    "print(c,'c')"
   ]
  },
  {
   "cell_type": "code",
   "execution_count": 9,
   "metadata": {},
   "outputs": [
    {
     "name": "stdout",
     "output_type": "stream",
     "text": [
      "enter the number:30.4\n",
      "temperature in fahrheat: -0.89 f\n",
      "temperature in celcius: 86.72 c\n"
     ]
    }
   ],
   "source": [
    "def fahr(temp):\n",
    "    f=round(((temp-32)*5)/9,2)\n",
    "    return f\n",
    "def celc(temp):\n",
    "    c=round(((9*temp)/5)+32,2)\n",
    "    return c\n",
    "temp=float(input(\"enter the number:\"))\n",
    "print('temperature in fahrheat:',fahr(temp),'f')\n",
    "print('temperature in celcius:',celc(temp),'c')\n",
    "    "
   ]
  },
  {
   "cell_type": "code",
   "execution_count": null,
   "metadata": {},
   "outputs": [],
   "source": []
  }
 ],
 "metadata": {
  "kernelspec": {
   "display_name": "Python 3",
   "language": "python",
   "name": "python3"
  },
  "language_info": {
   "codemirror_mode": {
    "name": "ipython",
    "version": 3
   },
   "file_extension": ".py",
   "mimetype": "text/x-python",
   "name": "python",
   "nbconvert_exporter": "python",
   "pygments_lexer": "ipython3",
   "version": "3.8.5"
  }
 },
 "nbformat": 4,
 "nbformat_minor": 4
}
