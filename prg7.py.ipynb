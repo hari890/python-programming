{
 "cells": [
  {
   "cell_type": "code",
   "execution_count": null,
   "metadata": {},
   "outputs": [],
   "source": [
    "s=input('enter the string:')\n",
    "w=input('enter the word to search:')\n",
    "count=0\n",
    "wl=len(w)\n",
    "for i in range(len(s)-len(w)+1):\n",
    "    if w==s[i:wl]:\n",
    "        count+=1\n",
    "    wl+=1\n",
    "print(w,'repeated',count,'times',s)"
   ]
  }
 ],
 "metadata": {
  "kernelspec": {
   "display_name": "Python 3",
   "language": "python",
   "name": "python3"
  },
  "language_info": {
   "codemirror_mode": {
    "name": "ipython",
    "version": 3
   },
   "file_extension": ".py",
   "mimetype": "text/x-python",
   "name": "python",
   "nbconvert_exporter": "python",
   "pygments_lexer": "ipython3",
   "version": "3.8.5"
  }
 },
 "nbformat": 4,
 "nbformat_minor": 4
}
